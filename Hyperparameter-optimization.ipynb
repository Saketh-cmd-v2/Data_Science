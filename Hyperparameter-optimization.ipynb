{
 "cells": [
  {
   "cell_type": "code",
   "execution_count": 1,
   "metadata": {},
   "outputs": [],
   "source": [
    "import os\n",
    "os.chdir(\"D://Course code\")\n",
    "\n",
    "import pandas as pd\n",
    "import numpy as np\n",
    "\n"
   ]
  },
  {
   "cell_type": "code",
   "execution_count": 4,
   "metadata": {},
   "outputs": [
    {
     "data": {
      "text/html": [
       "<div>\n",
       "<style scoped>\n",
       "    .dataframe tbody tr th:only-of-type {\n",
       "        vertical-align: middle;\n",
       "    }\n",
       "\n",
       "    .dataframe tbody tr th {\n",
       "        vertical-align: top;\n",
       "    }\n",
       "\n",
       "    .dataframe thead th {\n",
       "        text-align: right;\n",
       "    }\n",
       "</style>\n",
       "<table border=\"1\" class=\"dataframe\">\n",
       "  <thead>\n",
       "    <tr style=\"text-align: right;\">\n",
       "      <th></th>\n",
       "      <th>Pregnancies</th>\n",
       "      <th>Glucose</th>\n",
       "      <th>BloodPressure</th>\n",
       "      <th>SkinThickness</th>\n",
       "      <th>Insulin</th>\n",
       "      <th>BMI</th>\n",
       "      <th>DiabetesPedigreeFunction</th>\n",
       "      <th>Age</th>\n",
       "      <th>Outcome</th>\n",
       "    </tr>\n",
       "  </thead>\n",
       "  <tbody>\n",
       "    <tr>\n",
       "      <th>763</th>\n",
       "      <td>10</td>\n",
       "      <td>101</td>\n",
       "      <td>76</td>\n",
       "      <td>48</td>\n",
       "      <td>180</td>\n",
       "      <td>32.9</td>\n",
       "      <td>0.171</td>\n",
       "      <td>63</td>\n",
       "      <td>0</td>\n",
       "    </tr>\n",
       "    <tr>\n",
       "      <th>764</th>\n",
       "      <td>2</td>\n",
       "      <td>122</td>\n",
       "      <td>70</td>\n",
       "      <td>27</td>\n",
       "      <td>0</td>\n",
       "      <td>36.8</td>\n",
       "      <td>0.340</td>\n",
       "      <td>27</td>\n",
       "      <td>0</td>\n",
       "    </tr>\n",
       "    <tr>\n",
       "      <th>765</th>\n",
       "      <td>5</td>\n",
       "      <td>121</td>\n",
       "      <td>72</td>\n",
       "      <td>23</td>\n",
       "      <td>112</td>\n",
       "      <td>26.2</td>\n",
       "      <td>0.245</td>\n",
       "      <td>30</td>\n",
       "      <td>0</td>\n",
       "    </tr>\n",
       "    <tr>\n",
       "      <th>766</th>\n",
       "      <td>1</td>\n",
       "      <td>126</td>\n",
       "      <td>60</td>\n",
       "      <td>0</td>\n",
       "      <td>0</td>\n",
       "      <td>30.1</td>\n",
       "      <td>0.349</td>\n",
       "      <td>47</td>\n",
       "      <td>1</td>\n",
       "    </tr>\n",
       "    <tr>\n",
       "      <th>767</th>\n",
       "      <td>1</td>\n",
       "      <td>93</td>\n",
       "      <td>70</td>\n",
       "      <td>31</td>\n",
       "      <td>0</td>\n",
       "      <td>30.4</td>\n",
       "      <td>0.315</td>\n",
       "      <td>23</td>\n",
       "      <td>0</td>\n",
       "    </tr>\n",
       "  </tbody>\n",
       "</table>\n",
       "</div>"
      ],
      "text/plain": [
       "     Pregnancies  Glucose  BloodPressure  SkinThickness  Insulin   BMI  \\\n",
       "763           10      101             76             48      180  32.9   \n",
       "764            2      122             70             27        0  36.8   \n",
       "765            5      121             72             23      112  26.2   \n",
       "766            1      126             60              0        0  30.1   \n",
       "767            1       93             70             31        0  30.4   \n",
       "\n",
       "     DiabetesPedigreeFunction  Age  Outcome  \n",
       "763                     0.171   63        0  \n",
       "764                     0.340   27        0  \n",
       "765                     0.245   30        0  \n",
       "766                     0.349   47        1  \n",
       "767                     0.315   23        0  "
      ]
     },
     "execution_count": 4,
     "metadata": {},
     "output_type": "execute_result"
    }
   ],
   "source": [
    "df = pd.read_csv('diabetes.csv')\n",
    "df.tail()"
   ]
  },
  {
   "cell_type": "code",
   "execution_count": 8,
   "metadata": {},
   "outputs": [
    {
     "name": "stdout",
     "output_type": "stream",
     "text": [
      "     Pregnancies  Glucose  BloodPressure  SkinThickness  Insulin   BMI  \\\n",
      "75             1        0             48             20        0  24.7   \n",
      "182            1        0             74             20       23  27.7   \n",
      "342            1        0             68             35        0  32.0   \n",
      "349            5        0             80             32        0  41.0   \n",
      "502            6        0             68             41        0  39.0   \n",
      "\n",
      "     DiabetesPedigreeFunction  Age  Outcome  \n",
      "75                      0.140   22        0  \n",
      "182                     0.299   21        0  \n",
      "342                     0.389   22        0  \n",
      "349                     0.346   37        1  \n",
      "502                     0.727   41        1  \n"
     ]
    }
   ],
   "source": [
    "print(df[df['Glucose']==0])\n"
   ]
  },
  {
   "cell_type": "code",
   "execution_count": 10,
   "metadata": {},
   "outputs": [
    {
     "data": {
      "text/html": [
       "<div>\n",
       "<style scoped>\n",
       "    .dataframe tbody tr th:only-of-type {\n",
       "        vertical-align: middle;\n",
       "    }\n",
       "\n",
       "    .dataframe tbody tr th {\n",
       "        vertical-align: top;\n",
       "    }\n",
       "\n",
       "    .dataframe thead th {\n",
       "        text-align: right;\n",
       "    }\n",
       "</style>\n",
       "<table border=\"1\" class=\"dataframe\">\n",
       "  <thead>\n",
       "    <tr style=\"text-align: right;\">\n",
       "      <th></th>\n",
       "      <th>Pregnancies</th>\n",
       "      <th>Glucose</th>\n",
       "      <th>BloodPressure</th>\n",
       "      <th>SkinThickness</th>\n",
       "      <th>Insulin</th>\n",
       "      <th>BMI</th>\n",
       "      <th>DiabetesPedigreeFunction</th>\n",
       "      <th>Age</th>\n",
       "      <th>Outcome</th>\n",
       "    </tr>\n",
       "  </thead>\n",
       "  <tbody>\n",
       "    <tr>\n",
       "      <th>0</th>\n",
       "      <td>6</td>\n",
       "      <td>148.0</td>\n",
       "      <td>72</td>\n",
       "      <td>35.0</td>\n",
       "      <td>30.5</td>\n",
       "      <td>33.6</td>\n",
       "      <td>0.627</td>\n",
       "      <td>50</td>\n",
       "      <td>1</td>\n",
       "    </tr>\n",
       "    <tr>\n",
       "      <th>1</th>\n",
       "      <td>1</td>\n",
       "      <td>85.0</td>\n",
       "      <td>66</td>\n",
       "      <td>29.0</td>\n",
       "      <td>30.5</td>\n",
       "      <td>26.6</td>\n",
       "      <td>0.351</td>\n",
       "      <td>31</td>\n",
       "      <td>0</td>\n",
       "    </tr>\n",
       "    <tr>\n",
       "      <th>2</th>\n",
       "      <td>8</td>\n",
       "      <td>183.0</td>\n",
       "      <td>64</td>\n",
       "      <td>23.0</td>\n",
       "      <td>30.5</td>\n",
       "      <td>23.3</td>\n",
       "      <td>0.672</td>\n",
       "      <td>32</td>\n",
       "      <td>1</td>\n",
       "    </tr>\n",
       "    <tr>\n",
       "      <th>3</th>\n",
       "      <td>1</td>\n",
       "      <td>89.0</td>\n",
       "      <td>66</td>\n",
       "      <td>23.0</td>\n",
       "      <td>94.0</td>\n",
       "      <td>28.1</td>\n",
       "      <td>0.167</td>\n",
       "      <td>21</td>\n",
       "      <td>0</td>\n",
       "    </tr>\n",
       "    <tr>\n",
       "      <th>4</th>\n",
       "      <td>0</td>\n",
       "      <td>137.0</td>\n",
       "      <td>40</td>\n",
       "      <td>35.0</td>\n",
       "      <td>168.0</td>\n",
       "      <td>43.1</td>\n",
       "      <td>2.288</td>\n",
       "      <td>33</td>\n",
       "      <td>1</td>\n",
       "    </tr>\n",
       "  </tbody>\n",
       "</table>\n",
       "</div>"
      ],
      "text/plain": [
       "   Pregnancies  Glucose  BloodPressure  SkinThickness  Insulin   BMI  \\\n",
       "0            6    148.0             72           35.0     30.5  33.6   \n",
       "1            1     85.0             66           29.0     30.5  26.6   \n",
       "2            8    183.0             64           23.0     30.5  23.3   \n",
       "3            1     89.0             66           23.0     94.0  28.1   \n",
       "4            0    137.0             40           35.0    168.0  43.1   \n",
       "\n",
       "   DiabetesPedigreeFunction  Age  Outcome  \n",
       "0                     0.627   50        1  \n",
       "1                     0.351   31        0  \n",
       "2                     0.672   32        1  \n",
       "3                     0.167   21        0  \n",
       "4                     2.288   33        1  "
      ]
     },
     "execution_count": 10,
     "metadata": {},
     "output_type": "execute_result"
    }
   ],
   "source": [
    "#### Filling the missing values i.e 0 with median\n",
    "df['Insulin'] = np.where(df['Insulin']==0, df['Insulin'].median(), df['Insulin'])\n",
    "df['SkinThickness']=np.where(df['SkinThickness']==0, df['SkinThickness'].median(), df['SkinThickness'])\n",
    "df['Glucose']=np.where(df['Glucose']==0, df['Glucose'].median(), df['Glucose'])\n",
    "\n",
    "df.head()"
   ]
  },
  {
   "cell_type": "code",
   "execution_count": 11,
   "metadata": {},
   "outputs": [],
   "source": [
    "#### Seperating target and attribute\n",
    "y = df.pop('Outcome')\n",
    "X = df"
   ]
  },
  {
   "cell_type": "code",
   "execution_count": 17,
   "metadata": {},
   "outputs": [
    {
     "data": {
      "text/plain": [
       "(154, 8)"
      ]
     },
     "execution_count": 17,
     "metadata": {},
     "output_type": "execute_result"
    }
   ],
   "source": [
    "#### Creating train test split\n",
    "from sklearn.model_selection import train_test_split\n",
    "X_train, X_test, y_train, y_test = train_test_split(X,y,test_size=0.2, random_state=123) "
   ]
  },
  {
   "cell_type": "code",
   "execution_count": 19,
   "metadata": {},
   "outputs": [],
   "source": [
    "from sklearn.ensemble import RandomForestClassifier\n",
    "clf_rfc = RandomForestClassifier(n_estimators = 50)\n",
    "\n",
    "clf_rfc.fit(X_train, y_train)\n",
    "predictions = clf_rfc.predict(X_test)\n",
    "\n"
   ]
  },
  {
   "cell_type": "code",
   "execution_count": 23,
   "metadata": {
    "scrolled": true
   },
   "outputs": [
    {
     "name": "stdout",
     "output_type": "stream",
     "text": [
      "0.8051948051948052\n",
      "[[86 10]\n",
      " [20 38]]\n",
      "              precision    recall  f1-score   support\n",
      "\n",
      "           0       0.81      0.90      0.85        96\n",
      "           1       0.79      0.66      0.72        58\n",
      "\n",
      "    accuracy                           0.81       154\n",
      "   macro avg       0.80      0.78      0.78       154\n",
      "weighted avg       0.80      0.81      0.80       154\n",
      "\n"
     ]
    }
   ],
   "source": [
    "from sklearn.metrics import confusion_matrix, accuracy_score, classification_report\n",
    "print(accuracy_score(y_test, predictions))\n",
    "print(confusion_matrix(y_test, predictions))\n",
    "print(classification_report(y_test, predictions))"
   ]
  },
  {
   "cell_type": "code",
   "execution_count": 27,
   "metadata": {},
   "outputs": [],
   "source": [
    "n_estimators = [int(x) for x in np.linspace(start=20 , stop=100 , num = 5)] \n",
    "max_depth = [int(x) for x in np.linspace(20,100,5)]\n",
    "max_leaf_nodes = [int(x) for x in np.linspace(20,100,10)]"
   ]
  },
  {
   "cell_type": "code",
   "execution_count": 37,
   "metadata": {},
   "outputs": [],
   "source": [
    "#### Hyperparameter tuning using randomized search selecting different parameters\n",
    "from sklearn.model_selection import RandomizedSearchCV\n",
    "rf = RandomForestClassifier()\n",
    "parameters = {'n_estimators' : n_estimators,\n",
    "             'criterion': ['gini', 'entropy'],\n",
    "              'max_depth' : max_depth,\n",
    "              'min_samples_split': [2,3,4,5,6,7],\n",
    "              'min_samples_leaf' : [1,2,3,4,5,6],\n",
    "              'max_features' : ['auto' , 'sqrt' , 'log2'],\n",
    "              'max_leaf_nodes' : max_leaf_nodes\n",
    "             }\n",
    "              \n"
   ]
  },
  {
   "cell_type": "code",
   "execution_count": 44,
   "metadata": {},
   "outputs": [
    {
     "name": "stdout",
     "output_type": "stream",
     "text": [
      "Fitting 3 folds for each of 100 candidates, totalling 300 fits\n"
     ]
    },
    {
     "name": "stderr",
     "output_type": "stream",
     "text": [
      "[Parallel(n_jobs=-1)]: Using backend LokyBackend with 4 concurrent workers.\n",
      "[Parallel(n_jobs=-1)]: Done  33 tasks      | elapsed:    6.7s\n",
      "[Parallel(n_jobs=-1)]: Done 154 tasks      | elapsed:   16.4s\n",
      "[Parallel(n_jobs=-1)]: Done 300 out of 300 | elapsed:   25.9s finished\n"
     ]
    },
    {
     "data": {
      "text/plain": [
       "RandomizedSearchCV(cv=3, estimator=RandomForestClassifier(), n_iter=100,\n",
       "                   n_jobs=-1,\n",
       "                   param_distributions={'criterion': ['gini', 'entropy'],\n",
       "                                        'max_depth': [20, 40, 60, 80, 100],\n",
       "                                        'max_features': ['auto', 'sqrt',\n",
       "                                                         'log2'],\n",
       "                                        'max_leaf_nodes': [20, 28, 37, 46, 55,\n",
       "                                                           64, 73, 82, 91,\n",
       "                                                           100],\n",
       "                                        'min_samples_leaf': [1, 2, 3, 4, 5, 6],\n",
       "                                        'min_samples_split': [2, 3, 4, 5, 6, 7],\n",
       "                                        'n_estimators': [20, 40, 60, 80, 100]},\n",
       "                   random_state=130, verbose=2)"
      ]
     },
     "execution_count": 44,
     "metadata": {},
     "output_type": "execute_result"
    }
   ],
   "source": [
    "#### Doing randomized search and fitting on the training data\n",
    "random_search = RandomizedSearchCV(estimator = rf, param_distributions = parameters, n_iter = 100 , cv=3 , verbose =2 ,\n",
    "                                    n_jobs=-1, random_state = 130)\n",
    "random_search.fit(X_train, y_train)"
   ]
  },
  {
   "cell_type": "code",
   "execution_count": 48,
   "metadata": {},
   "outputs": [
    {
     "data": {
      "text/plain": [
       "RandomForestClassifier(criterion='entropy', max_depth=80, max_leaf_nodes=20,\n",
       "                       min_samples_leaf=5, min_samples_split=7,\n",
       "                       n_estimators=60)"
      ]
     },
     "execution_count": 48,
     "metadata": {},
     "output_type": "execute_result"
    }
   ],
   "source": [
    "#### Gives the best parameters\n",
    "random_search.best_estimator_"
   ]
  },
  {
   "cell_type": "code",
   "execution_count": 49,
   "metadata": {},
   "outputs": [],
   "source": [
    "#### Creating model with beat parms according to randomized search \n",
    "model_best = random_search.best_estimator_\n"
   ]
  },
  {
   "cell_type": "code",
   "execution_count": 50,
   "metadata": {},
   "outputs": [],
   "source": [
    "#### Making predictions\n",
    "pred_tuned = model_best.predict(X_test)"
   ]
  },
  {
   "cell_type": "code",
   "execution_count": 51,
   "metadata": {
    "scrolled": false
   },
   "outputs": [
    {
     "name": "stdout",
     "output_type": "stream",
     "text": [
      "[[85 11]\n",
      " [23 35]]\n",
      "0.7792207792207793\n",
      "              precision    recall  f1-score   support\n",
      "\n",
      "           0       0.79      0.89      0.83        96\n",
      "           1       0.76      0.60      0.67        58\n",
      "\n",
      "    accuracy                           0.78       154\n",
      "   macro avg       0.77      0.74      0.75       154\n",
      "weighted avg       0.78      0.78      0.77       154\n",
      "\n"
     ]
    }
   ],
   "source": [
    "print(confusion_matrix(y_test, pred_tuned))\n",
    "print(accuracy_score(y_test, pred_tuned))\n",
    "print(classification_report(y_test, pred_tuned))"
   ]
  },
  {
   "cell_type": "code",
   "execution_count": 46,
   "metadata": {},
   "outputs": [
    {
     "data": {
      "text/plain": [
       "{'n_estimators': 60,\n",
       " 'min_samples_split': 7,\n",
       " 'min_samples_leaf': 5,\n",
       " 'max_leaf_nodes': 20,\n",
       " 'max_features': 'auto',\n",
       " 'max_depth': 80,\n",
       " 'criterion': 'entropy'}"
      ]
     },
     "execution_count": 46,
     "metadata": {},
     "output_type": "execute_result"
    }
   ],
   "source": [
    "#### Gives best parameters \n",
    "best_parameters = random_search.best_params_\n",
    "best_parameters"
   ]
  },
  {
   "cell_type": "code",
   "execution_count": 63,
   "metadata": {},
   "outputs": [],
   "source": [
    "#### Performing gridsearch with the narrowed down parameters(best_parameters)\n",
    "from sklearn.model_selection import GridSearchCV\n",
    "rf = RandomForestClassifier()\n",
    "\n",
    "gs_parms = {'n_estimators': [best_parameters['n_estimators']-10, \n",
    "                            best_parameters['n_estimators']-20,\n",
    "                            best_parameters['n_estimators']-30,\n",
    "                            best_parameters['n_estimators']-40,\n",
    "                            best_parameters['n_estimators']-50],\n",
    "            'min_samples_split': [7,8,9,10],\n",
    "            'min_samples_leaf':[1,2,3,4,5,6,7,8,9,10],\n",
    "            'max_leaf_nodes':[best_parameters['max_leaf_nodes'] + 10,\n",
    "                              best_parameters['max_leaf_nodes']+20,\n",
    "                              best_parameters['max_leaf_nodes']+30,\n",
    "                              best_parameters['max_leaf_nodes']-10,\n",
    "                              best_parameters['max_leaf_nodes']+50],\n",
    "            'max_features': [best_parameters['max_features']],\n",
    "            'max_depth' : [best_parameters['max_depth'] +20,\n",
    "                          best_parameters['max_depth'] +40,\n",
    "                          best_parameters['max_depth'] -20,\n",
    "                          best_parameters['max_depth'] -40],\n",
    "            'criterion' : [best_parameters['criterion']]\n",
    "                            }"
   ]
  },
  {
   "cell_type": "code",
   "execution_count": 60,
   "metadata": {},
   "outputs": [
    {
     "name": "stdout",
     "output_type": "stream",
     "text": [
      "{'n_estimators': [50, 40, 30, 20, 10], 'min_samples': [7, 8, 9, 10], 'min_samples_leaf': [1, 2, 3, 4, 5, 6, 7, 8, 9, 10], 'max_leaf_nodes': [30, 40, 50, 10, 70], 'max_features': ['auto'], 'max_depth': [100, 120, 60, 40], 'criterion': ['entropy']}\n"
     ]
    }
   ],
   "source": [
    "print(gs_parms)"
   ]
  },
  {
   "cell_type": "code",
   "execution_count": 64,
   "metadata": {},
   "outputs": [
    {
     "name": "stdout",
     "output_type": "stream",
     "text": [
      "Fitting 10 folds for each of 4000 candidates, totalling 40000 fits\n"
     ]
    },
    {
     "name": "stderr",
     "output_type": "stream",
     "text": [
      "[Parallel(n_jobs=-1)]: Using backend LokyBackend with 4 concurrent workers.\n",
      "[Parallel(n_jobs=-1)]: Done  33 tasks      | elapsed:    5.5s\n",
      "[Parallel(n_jobs=-1)]: Done 252 tasks      | elapsed:   14.1s\n",
      "[Parallel(n_jobs=-1)]: Done 658 tasks      | elapsed:   29.4s\n",
      "[Parallel(n_jobs=-1)]: Done 1224 tasks      | elapsed:   51.1s\n",
      "[Parallel(n_jobs=-1)]: Done 1954 tasks      | elapsed:  1.3min\n",
      "[Parallel(n_jobs=-1)]: Done 2844 tasks      | elapsed:  1.9min\n",
      "[Parallel(n_jobs=-1)]: Done 3898 tasks      | elapsed:  2.5min\n",
      "[Parallel(n_jobs=-1)]: Done 5112 tasks      | elapsed:  3.3min\n",
      "[Parallel(n_jobs=-1)]: Done 6490 tasks      | elapsed:  4.2min\n",
      "[Parallel(n_jobs=-1)]: Done 8028 tasks      | elapsed:  5.1min\n",
      "[Parallel(n_jobs=-1)]: Done 9730 tasks      | elapsed:  6.2min\n",
      "[Parallel(n_jobs=-1)]: Done 11592 tasks      | elapsed:  7.3min\n",
      "[Parallel(n_jobs=-1)]: Done 13618 tasks      | elapsed:  8.6min\n",
      "[Parallel(n_jobs=-1)]: Done 15804 tasks      | elapsed: 10.0min\n",
      "[Parallel(n_jobs=-1)]: Done 18154 tasks      | elapsed: 11.4min\n",
      "[Parallel(n_jobs=-1)]: Done 20664 tasks      | elapsed: 13.0min\n",
      "[Parallel(n_jobs=-1)]: Done 23338 tasks      | elapsed: 14.7min\n",
      "[Parallel(n_jobs=-1)]: Done 26172 tasks      | elapsed: 16.9min\n",
      "[Parallel(n_jobs=-1)]: Done 29170 tasks      | elapsed: 18.9min\n",
      "[Parallel(n_jobs=-1)]: Done 32328 tasks      | elapsed: 21.0min\n",
      "[Parallel(n_jobs=-1)]: Done 35650 tasks      | elapsed: 23.6min\n",
      "[Parallel(n_jobs=-1)]: Done 39132 tasks      | elapsed: 25.9min\n",
      "[Parallel(n_jobs=-1)]: Done 40000 out of 40000 | elapsed: 26.5min finished\n"
     ]
    },
    {
     "data": {
      "text/plain": [
       "GridSearchCV(cv=10, estimator=RandomForestClassifier(), n_jobs=-1,\n",
       "             param_grid={'criterion': ['entropy'],\n",
       "                         'max_depth': [100, 120, 60, 40],\n",
       "                         'max_features': ['auto'],\n",
       "                         'max_leaf_nodes': [30, 40, 50, 10, 70],\n",
       "                         'min_samples_leaf': [1, 2, 3, 4, 5, 6, 7, 8, 9, 10],\n",
       "                         'min_samples_split': [7, 8, 9, 10],\n",
       "                         'n_estimators': [50, 40, 30, 20, 10]},\n",
       "             verbose=2)"
      ]
     },
     "execution_count": 64,
     "metadata": {},
     "output_type": "execute_result"
    }
   ],
   "source": [
    "#### Fit on the data\n",
    "gs_model = GridSearchCV(estimator = rf, param_grid=gs_parms, n_jobs=-1, cv=10, verbose=2)\n",
    "gs_model.fit(X_train,y_train)"
   ]
  },
  {
   "cell_type": "code",
   "execution_count": 66,
   "metadata": {},
   "outputs": [],
   "source": [
    "#### Find best parameters for the model\n",
    "gs_tuned_model = gs_model.best_estimator_"
   ]
  },
  {
   "cell_type": "code",
   "execution_count": 68,
   "metadata": {},
   "outputs": [
    {
     "name": "stdout",
     "output_type": "stream",
     "text": [
      "0.7597402597402597\n",
      "[[82 14]\n",
      " [23 35]]\n",
      "              precision    recall  f1-score   support\n",
      "\n",
      "           0       0.78      0.85      0.82        96\n",
      "           1       0.71      0.60      0.65        58\n",
      "\n",
      "    accuracy                           0.76       154\n",
      "   macro avg       0.75      0.73      0.74       154\n",
      "weighted avg       0.76      0.76      0.76       154\n",
      "\n"
     ]
    }
   ],
   "source": [
    "#### See the score, confusion_matrix, classification_report after aking predictions\n",
    "gs_predictions = gs_tuned_model.predict(X_test)\n",
    "print(accuracy_score(y_test, gs_predictions))\n",
    "print(confusion_matrix(y_test, gs_predictions))\n",
    "print(classification_report(y_test, gs_predictions))"
   ]
  }
 ],
 "metadata": {
  "kernelspec": {
   "display_name": "Python 3",
   "language": "python",
   "name": "python3"
  },
  "language_info": {
   "codemirror_mode": {
    "name": "ipython",
    "version": 3
   },
   "file_extension": ".py",
   "mimetype": "text/x-python",
   "name": "python",
   "nbconvert_exporter": "python",
   "pygments_lexer": "ipython3",
   "version": "3.7.7"
  }
 },
 "nbformat": 4,
 "nbformat_minor": 4
}
