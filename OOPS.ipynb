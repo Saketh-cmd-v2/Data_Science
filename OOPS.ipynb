{
 "cells": [
  {
   "cell_type": "code",
   "execution_count": 37,
   "metadata": {},
   "outputs": [
    {
     "name": "stdout",
     "output_type": "stream",
     "text": [
      "The Version is 4.55\n",
      "The Model Name is motorola\n"
     ]
    }
   ],
   "source": [
    "# def hello():\n",
    "#     print(\"Hello within a function\")\n",
    "    \n",
    "# hello()\n",
    "\n",
    "class UpperCase:\n",
    "    def __init__(self, design, Model_name):\n",
    "        self.design = design\n",
    "        self.Model_name = Model_name\n",
    "        \n",
    "    def NiceFormat(self):\n",
    "        print(f'The Version is {self.design}')\n",
    "        print(f'The Model Name is {self.Model_name}')\n",
    "        \n",
    "    def update(self, new_version):\n",
    "        self.design = new_version\n",
    "        \n",
    "        \n",
    "       \n",
    "        \n",
    "u1 = UpperCase(4.55, 'motorola')\n",
    "u1.NiceFormat()\n",
    "\n",
    "    "
   ]
  },
  {
   "cell_type": "code",
   "execution_count": 38,
   "metadata": {},
   "outputs": [
    {
     "name": "stdout",
     "output_type": "stream",
     "text": [
      "The Version is 4.56\n",
      "The Model Name is motorola\n"
     ]
    }
   ],
   "source": [
    "u1.update(4.56)\n",
    "u1.NiceFormat()\n"
   ]
  },
  {
   "cell_type": "markdown",
   "metadata": {},
   "source": [
    "# products program finding average "
   ]
  },
  {
   "cell_type": "markdown",
   "metadata": {},
   "source": [
    "class ECommerce:\n",
    "    def __init__(self, name, price, rating):\n",
    "        self.name = name\n",
    "        self.price = price\n",
    "        self.rating = rating\n",
    "        \n",
    "    def GetRating(self):\n",
    "        return self.rating\n",
    "    \n",
    "class Course():\n",
    "    def __init__(self, name, max_students):\n",
    "        self.name = name\n",
    "        self.max_students = max_students\n",
    "        self.students_list = []\n",
    "        \n",
    "    def add_student(self, student):\n",
    "        if len(self.students_list) < self.max_students:\n",
    "            self.students_list.append(student)\n",
    "            return True\n",
    "        return False\n",
    "    \n",
    "    def get_avg_rating(self):\n",
    "        val = 0\n",
    "        for i in self.students_list:\n",
    "            val += i.GetRating()\n",
    "            \n",
    "        return val / len(self.students_list)\n",
    "        \n",
    "           \n",
    "        \n",
    "s1 = ECommerce('sitar',25000, 4.5 )\n",
    "s2 = ECommerce('mouse', 3456, 1.2)\n",
    "s3 = ECommerce('oven', 6500, 5)\n",
    "\n",
    "c1 = Course('amazon Hacking', 3)\n",
    "c1.add_student(s1)\n",
    "c1.add_student(s2)\n",
    "c1.add_student(s3)\n",
    "\n",
    "\n",
    "\n",
    "                   "
   ]
  },
  {
   "cell_type": "code",
   "execution_count": 18,
   "metadata": {},
   "outputs": [
    {
     "name": "stdout",
     "output_type": "stream",
     "text": [
      "3.5666666666666664\n"
     ]
    }
   ],
   "source": [
    "print(c1.get_avg_rating())"
   ]
  },
  {
   "cell_type": "code",
   "execution_count": 19,
   "metadata": {},
   "outputs": [
    {
     "name": "stdout",
     "output_type": "stream",
     "text": [
      "oven\n"
     ]
    }
   ],
   "source": [
    "print(c1.students_list[2].name)"
   ]
  },
  {
   "cell_type": "code",
   "execution_count": 20,
   "metadata": {},
   "outputs": [
    {
     "name": "stdout",
     "output_type": "stream",
     "text": [
      "<class 'list'>\n"
     ]
    }
   ],
   "source": [
    "print(type(c1.students_list))"
   ]
  },
  {
   "cell_type": "markdown",
   "metadata": {},
   "source": [
    "# Inheritance\n"
   ]
  },
  {
   "cell_type": "code",
   "execution_count": 37,
   "metadata": {},
   "outputs": [],
   "source": [
    "class Electronics:\n",
    "    def __init__(self, category, website):\n",
    "        self.category = category\n",
    "        self.website = website\n",
    "        \n",
    "    def show_details(self):\n",
    "        print(f'The category of electronics is {self.category} and website is {self.website}')\n",
    "        \n",
    "  \n",
    "        \n",
    "class Mouse(Electronics):\n",
    "    def show_product(self):\n",
    "        print(\"This is child class 1\")\n",
    "        print(f'The category of electronics is {self.category} and website is {self.website}')\n",
    "        return True\n",
    "        \n",
    "        \n",
    "        \n",
    "class Laptop(Electronics):\n",
    "    def show_product(self):\n",
    "        print(\"This is child class 2\")\n",
    "        \n",
    "        return True\n",
    "        \n",
    "        \n",
    "        \n",
    "\n",
    "## Child classes can acess all the methords of parent class that is inheritance        \n"
   ]
  },
  {
   "cell_type": "code",
   "execution_count": 38,
   "metadata": {},
   "outputs": [
    {
     "name": "stdout",
     "output_type": "stream",
     "text": [
      "The category of electronics is Wired headset and website is www.xyz.com\n"
     ]
    }
   ],
   "source": [
    "        \n",
    "e1 = Electronics(\"Wired headset\", \"www.xyz.com\")\n",
    "e1.show_details()\n"
   ]
  },
  {
   "cell_type": "code",
   "execution_count": 39,
   "metadata": {},
   "outputs": [
    {
     "name": "stdout",
     "output_type": "stream",
     "text": [
      "This is child class 1\n",
      "The category of electronics is mouse_abc and website is www.abc.com\n"
     ]
    },
    {
     "data": {
      "text/plain": [
       "True"
      ]
     },
     "execution_count": 39,
     "metadata": {},
     "output_type": "execute_result"
    }
   ],
   "source": [
    "m1 = Mouse('mouse_abc', 'www.abc.com')\n",
    "m1.show_product()"
   ]
  },
  {
   "cell_type": "code",
   "execution_count": 40,
   "metadata": {},
   "outputs": [
    {
     "name": "stdout",
     "output_type": "stream",
     "text": [
      "The category of electronics is eret_z2 and website is www.eret.com\n"
     ]
    }
   ],
   "source": [
    "l1 = Laptop(\"eret_z2\", 'www.eret.com')\n",
    "l1.show_details()"
   ]
  },
  {
   "cell_type": "code",
   "execution_count": 43,
   "metadata": {},
   "outputs": [],
   "source": [
    "class misc(Electronics):\n",
    "    def no_name(self):\n",
    "        print('3rd ')\n",
    "        \n",
    "        \n",
    "        \n",
    "m3 = misc('yuo_UI', 'tny.com')\n",
    "m3.show_details()"
   ]
  },
  {
   "cell_type": "code",
   "execution_count": 48,
   "metadata": {},
   "outputs": [],
   "source": [
    "# When we need to add another attribute to an child class its done like \n",
    "\n",
    "class discount(Electronics):\n",
    "    def __init__(self, category, website, discount):\n",
    "        super().__init__(category, website) ## The features from parent class are called here\n",
    "        self.discount = discount\n",
    "        \n",
    "    def show_discount(self):\n",
    "        print(f' A new discount of {self.discount}% is avaliable')\n",
    "        \n",
    "d1 = discount('printer', 'print.com', 55)\n",
    "\n",
    "\n"
   ]
  },
  {
   "cell_type": "code",
   "execution_count": 49,
   "metadata": {},
   "outputs": [
    {
     "name": "stdout",
     "output_type": "stream",
     "text": [
      "The category of electronics is printer and website is print.com\n"
     ]
    }
   ],
   "source": [
    "d1.show_details() ## Parent class methord"
   ]
  },
  {
   "cell_type": "code",
   "execution_count": 51,
   "metadata": {},
   "outputs": [
    {
     "name": "stdout",
     "output_type": "stream",
     "text": [
      " A new discount of 55% is avaliable\n"
     ]
    }
   ],
   "source": [
    "d1.show_discount() # Child class methord specefic to discount function"
   ]
  },
  {
   "cell_type": "code",
   "execution_count": 151,
   "metadata": {},
   "outputs": [
    {
     "name": "stdout",
     "output_type": "stream",
     "text": [
      "1\n",
      "1\n"
     ]
    }
   ],
   "source": [
    "## Class Attributes\n",
    "\n",
    "class Animals():\n",
    "    no_of_animals = 0\n",
    "    \n",
    "    def __init__(self, Type):\n",
    "        self.Type = Type\n",
    "        Animals.no_of_animals += 1\n",
    "        \n",
    "        \n",
    "a1 = Animals('Vertibrates')\n",
    "print(Animals.no_of_animals)\n",
    "print(a1.no_of_animals)\n",
    "\n",
    "\n",
    "\n"
   ]
  },
  {
   "cell_type": "code",
   "execution_count": 153,
   "metadata": {},
   "outputs": [
    {
     "name": "stdout",
     "output_type": "stream",
     "text": [
      "3\n"
     ]
    }
   ],
   "source": [
    "a2 = Animals('Invertibrates')\n",
    "print(Animals.no_of_animals)"
   ]
  },
  {
   "cell_type": "code",
   "execution_count": 147,
   "metadata": {},
   "outputs": [],
   "source": [
    "a3 = Animals('Mammals')"
   ]
  },
  {
   "cell_type": "code",
   "execution_count": 148,
   "metadata": {},
   "outputs": [
    {
     "name": "stdout",
     "output_type": "stream",
     "text": [
      "3\n"
     ]
    }
   ],
   "source": [
    "print(Animals.no_of_animals)"
   ]
  },
  {
   "cell_type": "code",
   "execution_count": 123,
   "metadata": {},
   "outputs": [],
   "source": [
    "### Classmethods\n",
    "\n",
    "class Counting:\n",
    "    no_of_people = 0\n",
    "    \n",
    "    \n",
    "    @classmethod\n",
    "    def no_calc(cls):\n",
    "        return cls.no_of_people\n",
    "    \n",
    "    @classmethod\n",
    "    def add_method(cls):\n",
    "        cls.no_of_people += 1\n",
    "    \n",
    "    \n",
    "    \n",
    "    \n",
    " \n",
    "    \n",
    "    \n",
    "    "
   ]
  },
  {
   "cell_type": "code",
   "execution_count": 127,
   "metadata": {},
   "outputs": [],
   "source": [
    "c1 = Counting()\n",
    "c1.add_method()\n",
    "Counting.add_method()\n",
    "c2 = Counting()\n",
    "c2.add_method()\n",
    "c3 = Counting()"
   ]
  },
  {
   "cell_type": "code",
   "execution_count": 128,
   "metadata": {},
   "outputs": [
    {
     "name": "stdout",
     "output_type": "stream",
     "text": [
      "3\n"
     ]
    }
   ],
   "source": [
    "\n",
    "print(Counting.no_of_people)"
   ]
  },
  {
   "cell_type": "code",
   "execution_count": 125,
   "metadata": {},
   "outputs": [
    {
     "data": {
      "text/plain": [
       "0"
      ]
     },
     "execution_count": 125,
     "metadata": {},
     "output_type": "execute_result"
    }
   ],
   "source": [
    "\n",
    "Counting.no_calc()"
   ]
  },
  {
   "cell_type": "code",
   "execution_count": null,
   "metadata": {},
   "outputs": [],
   "source": [
    "# Static Methods\n",
    "\n",
    "\n",
    "class Star:\n",
    "    \n",
    "    @staticmethod\n",
    "    def starshow(num,symbol):\n",
    "        for i in range(num):\n",
    "            print(i * symbol)\n",
    "            \n",
    "\n",
    "            \n",
    "            "
   ]
  },
  {
   "cell_type": "code",
   "execution_count": 144,
   "metadata": {},
   "outputs": [
    {
     "name": "stdout",
     "output_type": "stream",
     "text": [
      "\n",
      "-\n",
      "--\n",
      "---\n"
     ]
    }
   ],
   "source": [
    "Star.starshow(4, \"-\")"
   ]
  },
  {
   "cell_type": "code",
   "execution_count": null,
   "metadata": {},
   "outputs": [],
   "source": []
  },
  {
   "cell_type": "code",
   "execution_count": null,
   "metadata": {},
   "outputs": [],
   "source": []
  },
  {
   "cell_type": "code",
   "execution_count": null,
   "metadata": {},
   "outputs": [],
   "source": []
  },
  {
   "cell_type": "code",
   "execution_count": null,
   "metadata": {},
   "outputs": [],
   "source": []
  },
  {
   "cell_type": "code",
   "execution_count": null,
   "metadata": {},
   "outputs": [],
   "source": []
  }
 ],
 "metadata": {
  "kernelspec": {
   "display_name": "Python 3",
   "language": "python",
   "name": "python3"
  },
  "language_info": {
   "codemirror_mode": {
    "name": "ipython",
    "version": 3
   },
   "file_extension": ".py",
   "mimetype": "text/x-python",
   "name": "python",
   "nbconvert_exporter": "python",
   "pygments_lexer": "ipython3",
   "version": "3.8.3"
  }
 },
 "nbformat": 4,
 "nbformat_minor": 4
}
